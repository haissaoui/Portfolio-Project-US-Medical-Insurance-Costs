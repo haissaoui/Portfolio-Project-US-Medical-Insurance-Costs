{
 "cells": [
  {
   "cell_type": "markdown",
   "id": "7c847b05",
   "metadata": {
    "papermill": {
     "duration": 0.002643,
     "end_time": "2023-02-19T21:39:34.948099",
     "exception": false,
     "start_time": "2023-02-19T21:39:34.945456",
     "status": "completed"
    },
    "tags": []
   },
   "source": [
    "# U.S. Medical Insurance Costs"
   ]
  },
  {
   "cell_type": "code",
   "execution_count": 1,
   "id": "9419049f",
   "metadata": {
    "execution": {
     "iopub.execute_input": "2023-02-19T21:39:34.953968Z",
     "iopub.status.busy": "2023-02-19T21:39:34.953233Z",
     "iopub.status.idle": "2023-02-19T21:39:34.972866Z",
     "shell.execute_reply": "2023-02-19T21:39:34.971934Z"
    },
    "papermill": {
     "duration": 0.029372,
     "end_time": "2023-02-19T21:39:34.979343",
     "exception": false,
     "start_time": "2023-02-19T21:39:34.949971",
     "status": "completed"
    },
    "tags": []
   },
   "outputs": [
    {
     "ename": "FileNotFoundError",
     "evalue": "[Errno 2] No such file or directory: '/kaggle/input/portfolio-project-us-medical-insurance-costs/insurance.csv'",
     "output_type": "error",
     "traceback": [
      "\u001b[1;31m---------------------------------------------------------------------------\u001b[0m",
      "\u001b[1;31mFileNotFoundError\u001b[0m                         Traceback (most recent call last)",
      "\u001b[1;32m~\\AppData\\Local\\Temp/ipykernel_17592/3883897021.py\u001b[0m in \u001b[0;36m<module>\u001b[1;34m\u001b[0m\n\u001b[0;32m      1\u001b[0m \u001b[1;32mimport\u001b[0m \u001b[0mcsv\u001b[0m\u001b[1;33m\u001b[0m\u001b[1;33m\u001b[0m\u001b[0m\n\u001b[1;32m----> 2\u001b[1;33m \u001b[1;32mwith\u001b[0m \u001b[0mopen\u001b[0m\u001b[1;33m(\u001b[0m\u001b[1;34m'/kaggle/input/portfolio-project-us-medical-insurance-costs/insurance.csv'\u001b[0m\u001b[1;33m)\u001b[0m \u001b[1;32mas\u001b[0m \u001b[0mdataset\u001b[0m\u001b[1;33m:\u001b[0m\u001b[1;33m\u001b[0m\u001b[1;33m\u001b[0m\u001b[0m\n\u001b[0m\u001b[0;32m      3\u001b[0m     \u001b[0mdata\u001b[0m \u001b[1;33m=\u001b[0m \u001b[0mdataset\u001b[0m\u001b[1;33m.\u001b[0m\u001b[0mread\u001b[0m\u001b[1;33m(\u001b[0m\u001b[1;33m)\u001b[0m\u001b[1;33m\u001b[0m\u001b[1;33m\u001b[0m\u001b[0m\n\u001b[0;32m      4\u001b[0m     \u001b[0mprint\u001b[0m\u001b[1;33m(\u001b[0m\u001b[0mdata\u001b[0m\u001b[1;33m)\u001b[0m\u001b[1;33m\u001b[0m\u001b[1;33m\u001b[0m\u001b[0m\n",
      "\u001b[1;31mFileNotFoundError\u001b[0m: [Errno 2] No such file or directory: '/kaggle/input/portfolio-project-us-medical-insurance-costs/insurance.csv'"
     ]
    }
   ],
   "source": [
    "import csv\n",
    "with open('/kaggle/input/portfolio-project-us-medical-insurance-costs/insurance.csv') as dataset:\n",
    "    data = dataset.read()\n",
    "    print(data)"
   ]
  },
  {
   "cell_type": "code",
   "execution_count": null,
   "id": "25d807f4",
   "metadata": {},
   "outputs": [],
   "source": []
  }
 ],
 "metadata": {
  "kernelspec": {
   "display_name": "Python 3 (ipykernel)",
   "language": "python",
   "name": "python3"
  },
  "language_info": {
   "codemirror_mode": {
    "name": "ipython",
    "version": 3
   },
   "file_extension": ".py",
   "mimetype": "text/x-python",
   "name": "python",
   "nbconvert_exporter": "python",
   "pygments_lexer": "ipython3",
   "version": "3.9.7"
  },
  "papermill": {
   "default_parameters": {},
   "duration": 9.535899,
   "end_time": "2023-02-19T21:39:35.707766",
   "environment_variables": {},
   "exception": null,
   "input_path": "__notebook__.ipynb",
   "output_path": "__notebook__.ipynb",
   "parameters": {},
   "start_time": "2023-02-19T21:39:26.171867",
   "version": "2.3.4"
  }
 },
 "nbformat": 4,
 "nbformat_minor": 5
}
